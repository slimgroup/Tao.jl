{
 "cells": [
  {
   "cell_type": "code",
   "execution_count": 3,
   "metadata": {},
   "outputs": [
    {
     "name": "stderr",
     "output_type": "stream",
     "text": [
      "\u001b[32m\u001b[1m  Activating\u001b[22m\u001b[39m new project at `~/Documents/Research/ParametricOperators.jl/src`\n",
      "\u001b[32m\u001b[1m  No Changes\u001b[22m\u001b[39m to `~/Documents/Research/ParametricOperators.jl/src/Project.toml`\n",
      "\u001b[32m\u001b[1m  No Changes\u001b[22m\u001b[39m to `~/Documents/Research/ParametricOperators.jl/src/Manifest.toml`\n"
     ]
    },
    {
     "ename": "LoadError",
     "evalue": "ArgumentError: Package ParametricOperators not found in current path.\n- Run `import Pkg; Pkg.add(\"ParametricOperators\")` to install the ParametricOperators package.",
     "output_type": "error",
     "traceback": [
      "ArgumentError: Package ParametricOperators not found in current path.\n- Run `import Pkg; Pkg.add(\"ParametricOperators\")` to install the ParametricOperators package.",
      "",
      "Stacktrace:",
      " [1] macro expansion",
      "   @ Base ./loading.jl:1766 [inlined]",
      " [2] macro expansion",
      "   @ Base ./lock.jl:267 [inlined]",
      " [3] __require(into::Module, mod::Symbol)",
      "   @ Base ./loading.jl:1747",
      " [4] #invoke_in_world#3",
      "   @ Base ./essentials.jl:921 [inlined]",
      " [5] invoke_in_world",
      "   @ Base ./essentials.jl:918 [inlined]",
      " [6] require(into::Module, mod::Symbol)",
      "   @ Base ./loading.jl:1740"
     ]
    }
   ],
   "source": [
    "using Pkg\n",
    "Pkg.activate(\"./\")\n",
    "using ParametricOperators"
   ]
  },
  {
   "cell_type": "code",
   "execution_count": 2,
   "metadata": {},
   "outputs": [
    {
     "ename": "LoadError",
     "evalue": "UndefVarError: `ParMatrix` not defined",
     "output_type": "error",
     "traceback": [
      "UndefVarError: `ParMatrix` not defined",
      "",
      "Stacktrace:",
      " [1] TuckerCompress(size::Vector{Int64}, rank::Vector{Int64}, restriction::Vector{Int64})",
      "   @ Main ./In[2]:6",
      " [2] top-level scope",
      "   @ In[2]:21"
     ]
    }
   ],
   "source": [
    "\n",
    "function TuckerCompress(size::Vector,rank::Vector,restriction::Vector)\n",
    "    factors = []\n",
    "    n = length(size)\n",
    "    \n",
    "    core = ParMatrix(T,rank[1],prod(rank[2:n]))\n",
    "    push!(factors,ParMatrix(T,size[1],rank[1]))\n",
    "    for i  = 2:length(size)\n",
    "        push!(factors,ParMatrix(T,rank[i],size[i]))\n",
    "    end\n",
    "    return ParTucker(core,factors,restriction)\n",
    "end\n",
    "\n",
    "T = Float32\n",
    "i = 5; b = 3; nx = 6; ny = 6; nt = 6; o = 5\n",
    "mx = 2; my = 2; mt = 2\n",
    "layer = 1\n",
    "rank = [2,2,2,2,2]\n",
    "tensor_size = [o,i,2*mx,2*my,mt]\n",
    "restr = [2,2,2]\n",
    "tensor  = TuckerCompress(tensor_size,rank,restr)\n"
   ]
  },
  {
   "cell_type": "code",
   "execution_count": 4,
   "metadata": {},
   "outputs": [
    {
     "data": {
      "text/plain": [
       "Dict{String, Any} with 6 entries:\n",
       "  \"rank\"        => Any[2, 2, 2, 2, 2]\n",
       "  \"shape\"       => Any[5, 5, 4, 4, 2]\n",
       "  \"T\"           => \"Float32\"\n",
       "  \"id\"          => \"UUID:2929d969-4bda-4681-8f7c-b8ee01ac850f\"\n",
       "  \"restriction\" => [2, 2, 2]\n",
       "  \"type\"        => \"ParTucker\""
      ]
     },
     "execution_count": 4,
     "metadata": {},
     "output_type": "execute_result"
    }
   ],
   "source": [
    "d = ParametricOperators.to_Dict(tensor)"
   ]
  },
  {
   "cell_type": "code",
   "execution_count": 8,
   "metadata": {},
   "outputs": [
    {
     "data": {
      "text/plain": [
       "Type{ParTucker}"
      ]
     },
     "execution_count": 8,
     "metadata": {},
     "output_type": "execute_result"
    }
   ],
   "source": [
    "Type{ParTucker}"
   ]
  },
  {
   "cell_type": "code",
   "execution_count": 5,
   "metadata": {},
   "outputs": [
    {
     "data": {
      "text/plain": [
       "ParTucker{Float32, 5}(ParMatrix{Float32}(2, 16, UUID(\"17233c94-c815-42b9-9092-9f9b1655bf3f\")), Any[ParMatrix{Float32}(5, 2, UUID(\"07ea5cfa-f625-43b2-abc9-09e727ef2690\")), ParMatrix{Float32}(2, 5, UUID(\"541e8c23-5601-4a34-a171-9f05bdcb7186\")), ParMatrix{Float32}(2, 4, UUID(\"e649fc93-627b-4a37-9136-efe89d8f5944\")), ParMatrix{Float32}(2, 4, UUID(\"0f1fa39f-7bc6-4f0d-b8e0-49dc6bab1739\")), ParMatrix{Float32}(2, 2, UUID(\"e18a12da-b617-4749-b6d7-58b5acd28ece\"))], [2, 2, 2], UUID(\"2929d969-4bda-4681-8f7c-b8ee01ac850f\"))"
      ]
     },
     "execution_count": 5,
     "metadata": {},
     "output_type": "execute_result"
    }
   ],
   "source": [
    "ParametricOperators.from_Dict(typeof(tensor),d)"
   ]
  },
  {
   "cell_type": "code",
   "execution_count": 7,
   "metadata": {},
   "outputs": [
    {
     "ename": "LoadError",
     "evalue": "MethodError: no method matching collect()\n\n\u001b[0mClosest candidates are:\n\u001b[0m  collect(\u001b[91m::LLVM.FunctionParameterSet\u001b[39m)\n\u001b[0m\u001b[90m   @\u001b[39m \u001b[35mLLVM\u001b[39m \u001b[90m~/.julia/packages/LLVM/TBM0O/src/core/\u001b[39m\u001b[90m\u001b[4mfunction.jl:110\u001b[24m\u001b[39m\n\u001b[0m  collect(\u001b[91m::DataStructures.SparseIntSet\u001b[39m)\n\u001b[0m\u001b[90m   @\u001b[39m \u001b[36mDataStructures\u001b[39m \u001b[90m~/.julia/packages/DataStructures/jFDPC/src/\u001b[39m\u001b[90m\u001b[4msparse_int_set.jl:201\u001b[24m\u001b[39m\n\u001b[0m  collect(\u001b[91m::LLVM.StructTypeElementSet\u001b[39m)\n\u001b[0m\u001b[90m   @\u001b[39m \u001b[35mLLVM\u001b[39m \u001b[90m~/.julia/packages/LLVM/TBM0O/src/core/\u001b[39m\u001b[90m\u001b[4mtype.jl:255\u001b[24m\u001b[39m\n\u001b[0m  ...\n",
     "output_type": "error",
     "traceback": [
      "MethodError: no method matching collect()\n\n\u001b[0mClosest candidates are:\n\u001b[0m  collect(\u001b[91m::LLVM.FunctionParameterSet\u001b[39m)\n\u001b[0m\u001b[90m   @\u001b[39m \u001b[35mLLVM\u001b[39m \u001b[90m~/.julia/packages/LLVM/TBM0O/src/core/\u001b[39m\u001b[90m\u001b[4mfunction.jl:110\u001b[24m\u001b[39m\n\u001b[0m  collect(\u001b[91m::DataStructures.SparseIntSet\u001b[39m)\n\u001b[0m\u001b[90m   @\u001b[39m \u001b[36mDataStructures\u001b[39m \u001b[90m~/.julia/packages/DataStructures/jFDPC/src/\u001b[39m\u001b[90m\u001b[4msparse_int_set.jl:201\u001b[24m\u001b[39m\n\u001b[0m  collect(\u001b[91m::LLVM.StructTypeElementSet\u001b[39m)\n\u001b[0m\u001b[90m   @\u001b[39m \u001b[35mLLVM\u001b[39m \u001b[90m~/.julia/packages/LLVM/TBM0O/src/core/\u001b[39m\u001b[90m\u001b[4mtype.jl:255\u001b[24m\u001b[39m\n\u001b[0m  ...\n",
      "",
      "Stacktrace:",
      " [1] top-level scope",
      "   @ In[7]:1"
     ]
    }
   ],
   "source": []
  },
  {
   "cell_type": "code",
   "execution_count": 4,
   "metadata": {},
   "outputs": [
    {
     "ename": "LoadError",
     "evalue": "UndefVarError: `TuckerShape` not defined",
     "output_type": "error",
     "traceback": [
      "UndefVarError: `TuckerShape` not defined",
      "",
      "Stacktrace:",
      " [1] top-level scope",
      "   @ In[4]:1"
     ]
    }
   ],
   "source": [
    "TuckerShape(tensor)"
   ]
  },
  {
   "cell_type": "code",
   "execution_count": 12,
   "metadata": {},
   "outputs": [
    {
     "data": {
      "text/plain": [
       "ModelConfig"
      ]
     },
     "execution_count": 12,
     "metadata": {},
     "output_type": "execute_result"
    }
   ],
   "source": [
    "using Parameters\n",
    "\n",
    "@with_kw struct ModelConfig\n",
    "    nx::Int = 64\n",
    "    ny::Int = 64\n",
    "    nt::Int = 51\n",
    "    nc_in::Int = 4\n",
    "    nc_mid::Int = 128\n",
    "    nc_lift::Int = 20\n",
    "    nc_out::Int = 1\n",
    "    mx::Int = 4\n",
    "    my::Int = 4\n",
    "    mt::Int = 4\n",
    "    nblocks::Int = 1\n",
    "    dtype::DataType = Float32\n",
    "    partition::Vector{Int} = [1, 4] \n",
    "    TuckerRank::Vector{Int} = [2,2,2,2,2,2] ##need to adjust this\n",
    "end"
   ]
  },
  {
   "cell_type": "code",
   "execution_count": 22,
   "metadata": {},
   "outputs": [
    {
     "data": {
      "text/plain": [
       "ModelConfig\n",
       "  nx: Int64 64\n",
       "  ny: Int64 64\n",
       "  nt: Int64 51\n",
       "  nc_in: Int64 4\n",
       "  nc_mid: Int64 128\n",
       "  nc_lift: Int64 20\n",
       "  nc_out: Int64 1\n",
       "  mx: Int64 4\n",
       "  my: Int64 4\n",
       "  mt: Int64 4\n",
       "  nblocks: Int64 1\n",
       "  dtype: Float32 <: AbstractFloat\n",
       "  partition: Array{Int64}((2,)) [1, 4]\n",
       "  TuckerRank: Array{Int64}((6,)) [2, 2, 2, 2, 2, 2]\n"
      ]
     },
     "execution_count": 22,
     "metadata": {},
     "output_type": "execute_result"
    }
   ],
   "source": [
    "modconfig = ModelConfig()"
   ]
  },
  {
   "cell_type": "code",
   "execution_count": 19,
   "metadata": {},
   "outputs": [
    {
     "data": {
      "text/plain": [
       "64"
      ]
     },
     "execution_count": 19,
     "metadata": {},
     "output_type": "execute_result"
    }
   ],
   "source": [
    "function TuckerCompress(size::Vector,rank::Vector,restriction::Vector)\n",
    "    factors = []\n",
    "    n = length(size)\n",
    "    \n",
    "    core = ParMatrix(T,rank[1],prod(rank[2:n]))\n",
    "    push!(factors,ParMatrix(T,size[1],rank[1]))\n",
    "    for i  = 2:length(size)\n",
    "        push!(factors,ParMatrix(T,rank[i],size[i]))\n",
    "    end\n",
    "    return ParTucker(core,factors,restriction)\n",
    "end"
   ]
  },
  {
   "cell_type": "code",
   "execution_count": 2,
   "metadata": {},
   "outputs": [
    {
     "ename": "LoadError",
     "evalue": "UndefVarError: ParMatrix not defined",
     "output_type": "error",
     "traceback": [
      "UndefVarError: ParMatrix not defined",
      "",
      "Stacktrace:",
      " [1] TuckerCompress(size::Vector{Int64}, rank::Vector{Int64}, restriction::Vector{Int64})",
      "   @ Main ./In[2]:5",
      " [2] top-level scope",
      "   @ In[2]:19"
     ]
    }
   ],
   "source": [
    "function TuckerCompress(size::Vector,rank::Vector,restriction::Vector)\n",
    "    factors = []\n",
    "    n = length(size)\n",
    "    \n",
    "    core = ParMatrix(T,rank[1],prod(rank[2:n]))\n",
    "    push!(factors,ParMatrix(T,size[1],rank[1]))\n",
    "    for i  = 2:length(size)\n",
    "        push!(factors,ParMatrix(T,rank[i],size[i]))\n",
    "    end\n",
    "    return ParTucker(core,factors,restriction)\n",
    "end\n",
    "T = Float32\n",
    "i = 5; b = 3; nx = 6; ny = 6; nt = 6; o = 5\n",
    "mx = 2; my = 2; mt = 2\n",
    "layer = 1\n",
    "rank = [2,2,2,2,2]\n",
    "tensor_size = [o,i,2*mx,2*my,mt]\n",
    "restr = [2,2,2]\n",
    "tensor  = TuckerCompress(tensor_size,rank,restr)\n",
    "tensor(2)"
   ]
  },
  {
   "cell_type": "code",
   "execution_count": 4,
   "metadata": {},
   "outputs": [],
   "source": [
    "mutable struct Model\n",
    "    config::ModelConfig\n",
    "    lifts::ParKron\n",
    "    convs::Vector\n",
    "    sconvs::Vector\n",
    "    biases::Vector\n",
    "    sconv_biases::Vector\n",
    "    projects::Vector\n",
    "    weight_mixes::Vector\n",
    "\n",
    "    #first, function to get Tucker factors (ParMatrix)\n",
    "\n",
    "\n",
    "    function Model(config::ModelConfig)\n",
    "\n",
    "        T = config.dtype\n",
    "        \n",
    "        sconvs = []\n",
    "        convs = []\n",
    "        projects = []\n",
    "        sconv_biases = []\n",
    "        biases = []\n",
    "        weight_mixes = []\n",
    "    \n",
    "        weight_shape = [config.nc_lift, config.nc_lift, 2*config.mx, 2*config.my,\n",
    "        config.mt,config.nblocks]\n",
    "        weight_mix = TuckerCompress(weight_shape,config.TuckerRank,\n",
    "        [config.mx, config.my, config.mt])\n",
    "        push!(weight_mixes, weight_mix)\n",
    "\n",
    "        function spectral_convolution(layer::Int)\n",
    "    \n",
    "            # Build 3D Fourier transform with real-valued FFT along time\n",
    "            fourier_x = ParDFT(Complex{T}, config.nx)\n",
    "            fourier_y = ParDFT(Complex{T}, config.ny)\n",
    "            fourier_t = ParDFT(T, config.nt)\n",
    "    \n",
    "            # Build restrictions to low-frequency modes\n",
    "            restrict_x = ParRestriction(Complex{T}, Range(fourier_x), [1:config.mx, config.nx-config.mx+1:config.nx])\n",
    "            restrict_y = ParRestriction(Complex{T}, Range(fourier_y), [1:config.my, config.ny-config.my+1:config.ny])\n",
    "            restrict_t = ParRestriction(Complex{T}, Range(fourier_t), [1:config.mt])\n",
    "            \n",
    "            restrict_dft = ParKron((restrict_y * fourier_y) ⊗ (restrict_x * fourier_x), (restrict_t * fourier_t) ⊗ ParIdentity(T, config.nc_lift))\n",
    "    \n",
    "            sconv = restrict_dft' * weight_mix(layer) * restrict_dft\n",
    "    \n",
    "            return sconv\n",
    "        end\n",
    "    \n",
    "        # Lift Channel dimension\n",
    "        lifts = ParKron(ParIdentity(T,config.ny) ⊗ ParIdentity(T,config.nx), ParIdentity(T,config.nt) ⊗ ParMatrix(T, config.nc_lift, config.nc_in, \"ParMatrix_LIFTS:(1)\"))\n",
    "        bias = ParBroadcasted(ParMatrix(T, config.nc_lift, 1, \"ParMatrix_BIAS:(1)\"))\n",
    "    \n",
    "        # lifts = distribute(lifts, config.partition)\n",
    "    \n",
    "        push!(biases, bias)\n",
    "    \n",
    "        for i in 1:config.nblocks\n",
    "    \n",
    "            sconv_layer = spectral_convolution(i)\n",
    "            conv_layer = ParKron(ParIdentity(T,config.ny) ⊗ ParIdentity(T,config.nx), ParIdentity(T,config.nt) ⊗ ParMatrix(T, config.nc_lift, config.nc_lift, \"ParMatrix_SCONV:($(i))\"))\n",
    "            bias = ParBroadcasted(ParMatrix(T, config.nc_lift, 1, \"ParMatrix_SCONV:($(i))\"))\n",
    "    \n",
    "            # conv_layer = distribute(conv_layer, config.partition)\n",
    "    \n",
    "            push!(sconv_biases, bias)\n",
    "            push!(sconvs, sconv_layer)\n",
    "            push!(convs, conv_layer)\n",
    "        end\n",
    "    \n",
    "        # Uplift channel dimension once more\n",
    "        uc = ParKron(ParIdentity(T,config.ny) ⊗ ParIdentity(T,config.nx), ParIdentity(T,config.nt) ⊗ ParMatrix(T, config.nc_mid, config.nc_lift, \"ParMatrix_LIFTS:(2)\"))\n",
    "        bias = ParBroadcasted(ParMatrix(T, config.nc_mid, 1, \"ParMatrix_BIAS:(2)\"))\n",
    "    \n",
    "        uc = distribute(uc, config.partition)\n",
    "    \n",
    "        push!(biases, bias)\n",
    "        push!(projects, uc)\n",
    "    \n",
    "        # Project channel dimension\n",
    "        pc = ParKron(ParIdentity(T,config.ny) ⊗ ParIdentity(T,config.nx), ParIdentity(T,config.nt) ⊗ ParMatrix(T, config.nc_out, config.nc_mid, \"ParMatrix_LIFTS:(3)\"))\n",
    "        bias = ParBroadcasted(ParMatrix(T, config.nc_out, 1, \"ParMatrix_BIAS:(3)\"))\n",
    "    \n",
    "        pc = distribute(pc, config.partition)\n",
    "    \n",
    "        push!(biases, bias)\n",
    "        push!(projects, pc)\n",
    "    \n",
    "        new(config, lifts, convs, sconvs, biases, sconv_biases, projects, weight_mixes)\n",
    "    end\n",
    "end"
   ]
  },
  {
   "cell_type": "code",
   "execution_count": null,
   "metadata": {},
   "outputs": [],
   "source": [
    "mutable struct Model\n",
    "    config::ModelConfig\n",
    "    lifts::ParKron\n",
    "    convs::Vector\n",
    "    sconvs::Vector\n",
    "    biases::Vector\n",
    "    sconv_biases::Vector\n",
    "    projects::Vector\n",
    "    weight_mixes::Vector\n",
    "\n",
    "    #first, function to get Tucker factors (ParMatrix)\n",
    "\n",
    "\n",
    "    function Model(config::ModelConfig)\n",
    "\n",
    "        T = config.dtype\n",
    "        \n",
    "        sconvs = []\n",
    "        convs = []\n",
    "        projects = []\n",
    "        sconv_biases = []\n",
    "        biases = []\n",
    "        weight_mixes = []\n",
    "    \n",
    "        weight_shape = [config.nc_lift, config.nc_lift, 2*config.mx, 2*config.my,\n",
    "        config.mt,config.nblocks]\n",
    "        weight_mix = TuckerCompress(weight_shape,config.TuckerRank,\n",
    "        [config.mx, config.my, config.mt])\n",
    "        push!(weight_mixes, weight_mix)\n",
    "\n",
    "        function spectral_convolution(layer::Int)\n",
    "    \n",
    "            # Build 3D Fourier transform with real-valued FFT along time\n",
    "            fourier_x = ParDFT(Complex{T}, config.nx)\n",
    "            fourier_y = ParDFT(Complex{T}, config.ny)\n",
    "            fourier_t = ParDFT(T, config.nt)\n",
    "    \n",
    "            # Build restrictions to low-frequency modes\n",
    "            restrict_x = ParRestriction(Complex{T}, Range(fourier_x), [1:config.mx, config.nx-config.mx+1:config.nx])\n",
    "            restrict_y = ParRestriction(Complex{T}, Range(fourier_y), [1:config.my, config.ny-config.my+1:config.ny])\n",
    "            restrict_t = ParRestriction(Complex{T}, Range(fourier_t), [1:config.mt])\n",
    "            \n",
    "            restrict_dft = ParKron((restrict_y * fourier_y) ⊗ (restrict_x * fourier_x), (restrict_t * fourier_t) ⊗ ParIdentity(T, config.nc_lift))\n",
    "    \n",
    "            sconv = restrict_dft' * weight_mix(layer) * restrict_dft\n",
    "    \n",
    "            return sconv\n",
    "        end\n",
    "    \n",
    "        # Lift Channel dimension\n",
    "        lifts = ParKron(ParIdentity(T,config.ny) ⊗ ParIdentity(T,config.nx), ParIdentity(T,config.nt) ⊗ ParMatrix(T, config.nc_lift, config.nc_in, \"ParMatrix_LIFTS:(1)\"))\n",
    "        bias = ParBroadcasted(ParMatrix(T, config.nc_lift, 1, \"ParMatrix_BIAS:(1)\"))\n",
    "    \n",
    "        # lifts = distribute(lifts, config.partition)\n",
    "    \n",
    "        push!(biases, bias)\n",
    "    \n",
    "        for i in 1:config.nblocks\n",
    "    \n",
    "            sconv_layer = spectral_convolution(i)\n",
    "            conv_layer = ParKron(ParIdentity(T,config.ny) ⊗ ParIdentity(T,config.nx), ParIdentity(T,config.nt) ⊗ ParMatrix(T, config.nc_lift, config.nc_lift, \"ParMatrix_SCONV:($(i))\"))\n",
    "            bias = ParBroadcasted(ParMatrix(T, config.nc_lift, 1, \"ParMatrix_SCONV:($(i))\"))\n",
    "    \n",
    "            # conv_layer = distribute(conv_layer, config.partition)\n",
    "    \n",
    "            push!(sconv_biases, bias)\n",
    "            push!(sconvs, sconv_layer)\n",
    "            push!(convs, conv_layer)\n",
    "        end\n",
    "    \n",
    "        # Uplift channel dimension once more\n",
    "        uc = ParKron(ParIdentity(T,config.ny) ⊗ ParIdentity(T,config.nx), ParIdentity(T,config.nt) ⊗ ParMatrix(T, config.nc_mid, config.nc_lift, \"ParMatrix_LIFTS:(2)\"))\n",
    "        bias = ParBroadcasted(ParMatrix(T, config.nc_mid, 1, \"ParMatrix_BIAS:(2)\"))\n",
    "    \n",
    "        uc = distribute(uc, config.partition)\n",
    "    \n",
    "        push!(biases, bias)\n",
    "        push!(projects, uc)\n",
    "    \n",
    "        # Project channel dimension\n",
    "        pc = ParKron(ParIdentity(T,config.ny) ⊗ ParIdentity(T,config.nx), ParIdentity(T,config.nt) ⊗ ParMatrix(T, config.nc_out, config.nc_mid, \"ParMatrix_LIFTS:(3)\"))\n",
    "        bias = ParBroadcasted(ParMatrix(T, config.nc_out, 1, \"ParMatrix_BIAS:(3)\"))\n",
    "    \n",
    "        pc = distribute(pc, config.partition)\n",
    "    \n",
    "        push!(biases, bias)\n",
    "        push!(projects, pc)\n",
    "    \n",
    "        new(config, lifts, convs, sconvs, biases, sconv_biases, projects, weight_mixes)\n",
    "    end\n",
    "end"
   ]
  }
 ],
 "metadata": {
  "kernelspec": {
   "display_name": "Julia 1.10.0",
   "language": "julia",
   "name": "julia-1.10"
  },
  "language_info": {
   "file_extension": ".jl",
   "mimetype": "application/julia",
   "name": "julia",
   "version": "1.10.0"
  },
  "orig_nbformat": 4
 },
 "nbformat": 4,
 "nbformat_minor": 2
}
